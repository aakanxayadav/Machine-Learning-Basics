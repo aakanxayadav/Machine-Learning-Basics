{
 "cells": [
  {
   "cell_type": "markdown",
   "id": "f2ed7980",
   "metadata": {},
   "source": [
    "# Data preprocessing in python: practicle implementation"
   ]
  },
  {
   "cell_type": "code",
   "execution_count": 33,
   "id": "4b556728",
   "metadata": {},
   "outputs": [],
   "source": [
    "import pandas as pd\n",
    "import numpy as np\n",
    "from sklearn.preprocessing import StandardScaler, MinMaxScaler\n",
    "\n",
    "#sample dataset\n",
    "data = {\n",
    "'A':[1,2,np.nan,4,5,100],\n",
    "'B':[10,12,13,14,15,1100],\n",
    "'C':[100,200,300,400,500,600],\n",
    "'D':[np.nan, np.nan, 30, 40, 50, 60]\n",
    "}\n",
    "    \n",
    "#converting to dataframe\n",
    "\n",
    "df= pd.DataFrame(data)\n"
   ]
  },
  {
   "cell_type": "code",
   "execution_count": 34,
   "id": "c2460bdc",
   "metadata": {},
   "outputs": [],
   "source": [
    "#1. Handling missing values\n",
    "#filling missing values with mean of the column\n",
    "df_filled = df.fillna(df.mean())"
   ]
  },
  {
   "cell_type": "code",
   "execution_count": 35,
   "id": "1cb3b1a7",
   "metadata": {},
   "outputs": [],
   "source": [
    "#2. Handling outliers\n",
    "Q1= df_filled.quantile(0.25)\n",
    "Q3= df_filled.quantile(0.75)\n",
    "IQR= Q3-Q1\n",
    "\n",
    "df_no_outliers = df_filled[~((df_filled < (Q1 - 1.5 * IQR)) | (df_filled > (Q3 + 1.5 * IQR))).any(axis=1)]"
   ]
  },
  {
   "cell_type": "code",
   "execution_count": 40,
   "id": "4e0e87ef",
   "metadata": {},
   "outputs": [
    {
     "name": "stdout",
     "output_type": "stream",
     "text": [
      "   Customer_Age  Total_Purchase_Amount  Number_of_Items_Purchased  \\\n",
      "0      0.000000               0.000000                   0.000000   \n",
      "1      0.205128               0.136364                   0.285714   \n",
      "2      0.584615               0.181818                   0.571429   \n",
      "3      0.128205               0.793388                   0.714286   \n",
      "4      0.820513               0.272727                   0.142857   \n",
      "5      1.000000               0.545455                   0.857143   \n",
      "6      0.584615               0.318182                   0.428571   \n",
      "7      0.435897               0.454545                   0.285714   \n",
      "8      0.153846               1.000000                   1.000000   \n",
      "\n",
      "   Customer_Satisfaction_Rating  \n",
      "0                          0.50  \n",
      "1                          0.60  \n",
      "2                          1.00  \n",
      "3                          0.25  \n",
      "4                          0.00  \n",
      "5                          1.00  \n",
      "6                          0.50  \n",
      "7                          0.60  \n",
      "8                          0.25  \n"
     ]
    }
   ],
   "source": [
    "#3. Normalization/Standardization\n",
    "scaler = MinMaxScaler()\n",
    "df_normalized=pd.DataFrame(scaler.fit_transform(df_no_outliers), columns=df_no_outliers.columns)\n",
    "print(df_normalized)"
   ]
  },
  {
   "cell_type": "markdown",
   "id": "c0c7e7bf",
   "metadata": {},
   "source": [
    "# Dataset 1"
   ]
  },
  {
   "cell_type": "code",
   "execution_count": 37,
   "id": "62246360",
   "metadata": {},
   "outputs": [],
   "source": [
    "data = {\n",
    "    'Customer_Age': [23, 45, 31, np.nan, 28, 55, 35, 62, np.nan, 40, 29, 110],  # contains missing values and an outlier\n",
    "    'Total_Purchase_Amount': [100, 1500, 250, 300, np.nan, 400, 5000, 700, 450, 600, 1200, 200],  # contains missing values and outliers\n",
    "    'Number_of_Items_Purchased': [1, 15, 3, 5, 6, 2, 20, 7, 4, 3, 8, 2],  # no missing values or outliers\n",
    "    'Customer_Satisfaction_Rating': [3, 4, np.nan, 5, 2, 1, 4, 5, 3, np.nan, 2, 5]  # contains missing values\n",
    "}"
   ]
  },
  {
   "cell_type": "code",
   "execution_count": 39,
   "id": "d0056d49",
   "metadata": {},
   "outputs": [
    {
     "name": "stdout",
     "output_type": "stream",
     "text": [
      "   Customer_Age  Total_Purchase_Amount  Number_of_Items_Purchased  \\\n",
      "0      0.000000               0.000000                   0.000000   \n",
      "1      0.205128               0.136364                   0.285714   \n",
      "2      0.584615               0.181818                   0.571429   \n",
      "3      0.128205               0.793388                   0.714286   \n",
      "4      0.820513               0.272727                   0.142857   \n",
      "5      1.000000               0.545455                   0.857143   \n",
      "6      0.584615               0.318182                   0.428571   \n",
      "7      0.435897               0.454545                   0.285714   \n",
      "8      0.153846               1.000000                   1.000000   \n",
      "\n",
      "   Customer_Satisfaction_Rating  \n",
      "0                          0.50  \n",
      "1                          0.60  \n",
      "2                          1.00  \n",
      "3                          0.25  \n",
      "4                          0.00  \n",
      "5                          1.00  \n",
      "6                          0.50  \n",
      "7                          0.60  \n",
      "8                          0.25  \n"
     ]
    }
   ],
   "source": [
    "df=pd.DataFrame(data)\n",
    " \n",
    "df_filled=df.fillna(df.mean())\n",
    " \n",
    "q1=df_filled.quantile(0.25)\n",
    "q3=df_filled.quantile(0.75)\n",
    "iqr=q3-q1\n",
    " \n",
    "df_no_outliers=df_filled[~((df_filled<(q1-1.5*iqr))|(df_filled>(q3+1.5*iqr))).any(axis=1)]\n",
    " \n",
    "scaler=MinMaxScaler()\n",
    "df_normalized=pd.DataFrame(scaler.fit_transform(df_no_outliers), columns=df_no_outliers.columns)\n",
    " \n",
    "print(df_normalized)\n"
   ]
  },
  {
   "cell_type": "code",
   "execution_count": null,
   "id": "c0ad9e48",
   "metadata": {},
   "outputs": [],
   "source": []
  },
  {
   "cell_type": "code",
   "execution_count": null,
   "id": "2223026c",
   "metadata": {},
   "outputs": [],
   "source": []
  }
 ],
 "metadata": {
  "kernelspec": {
   "display_name": "Python 3",
   "language": "python",
   "name": "python3"
  },
  "language_info": {
   "codemirror_mode": {
    "name": "ipython",
    "version": 3
   },
   "file_extension": ".py",
   "mimetype": "text/x-python",
   "name": "python",
   "nbconvert_exporter": "python",
   "pygments_lexer": "ipython3",
   "version": "3.8.8"
  }
 },
 "nbformat": 4,
 "nbformat_minor": 5
}
