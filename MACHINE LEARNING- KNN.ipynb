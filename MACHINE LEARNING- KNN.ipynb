{
 "cells": [
  {
   "cell_type": "markdown",
   "id": "eb1f7ef2",
   "metadata": {},
   "source": [
    "# KNN"
   ]
  },
  {
   "cell_type": "code",
   "execution_count": 3,
   "id": "6875ad76",
   "metadata": {},
   "outputs": [],
   "source": [
    "import numpy as np\n",
    "import matplotlib.pyplot as plt\n",
    "from sklearn.datasets import load_wine\n",
    "from sklearn.model_selection import train_test_split\n",
    "from sklearn.neighbors import KNeighborsClassifier\n",
    "from sklearn.metrics import accuracy_score\n",
    "from sklearn.preprocessing import StandardScaler"
   ]
  },
  {
   "cell_type": "code",
   "execution_count": 4,
   "id": "bfe0ecf3",
   "metadata": {},
   "outputs": [],
   "source": [
    "# Load dataset\n",
    "wine = load_wine()\n",
    "X, y = wine.data, wine.target"
   ]
  },
  {
   "cell_type": "code",
   "execution_count": 5,
   "id": "497c5017",
   "metadata": {},
   "outputs": [],
   "source": [
    "# Split dataset into training and testing sets\n",
    "X_train, X_test, y_train, y_test = train_test_split(X, y, test_size=0.3, random_state=42)"
   ]
  },
  {
   "cell_type": "code",
   "execution_count": 6,
   "id": "e538594c",
   "metadata": {},
   "outputs": [],
   "source": [
    "# Define distance measures\n",
    "distance_measures = {\n",
    "    'Euclidean': 'euclidean',\n",
    "    'Manhattan': 'manhattan',\n",
    "    'Minkowski': 'minkowski'\n",
    "}"
   ]
  },
  {
   "cell_type": "code",
   "execution_count": 7,
   "id": "c80caddf",
   "metadata": {},
   "outputs": [],
   "source": [
    "# Store accuracy results\n",
    "accuracy_results = {}"
   ]
  },
  {
   "cell_type": "code",
   "execution_count": 8,
   "id": "c3e5d873",
   "metadata": {},
   "outputs": [
    {
     "name": "stdout",
     "output_type": "stream",
     "text": [
      "Accuracy with Euclidean distance: 0.74\n",
      "Accuracy with Manhattan distance: 0.80\n",
      "Accuracy with Minkowski distance: 0.74\n"
     ]
    }
   ],
   "source": [
    "# Implement KNN for different distance measures\n",
    "for name, metric in distance_measures.items():\n",
    "    knn = KNeighborsClassifier(n_neighbors=3, metric=metric)\n",
    "    knn.fit(X_train, y_train)\n",
    "    y_pred = knn.predict(X_test)\n",
    "    accuracy = accuracy_score(y_test, y_pred)\n",
    "    accuracy_results[name] = accuracy\n",
    "    print(f'Accuracy with {name} distance: {accuracy:.2f}')"
   ]
  },
  {
   "cell_type": "code",
   "execution_count": 10,
   "id": "af2f6e1a",
   "metadata": {},
   "outputs": [
    {
     "data": {
      "image/png": "[encoded data removed]",
      "text/plain": [
       "<Figure size 720x360 with 1 Axes>"
      ]
     },
     "metadata": {
      "needs_background": "light"
     },
     "output_type": "display_data"
    }
   ],
   "source": [
    "# Plot the accuracy results\n",
    "plt.figure(figsize=(10, 5))\n",
    "plt.bar(accuracy_results.keys(), accuracy_results.values(), color=['blue', 'green', 'red'])\n",
    "plt.xlabel('Distance Measure')\n",
    "plt.ylabel('Accuracy')\n",
    "plt.title('KNN Accuracy with Different Distance Measures (Wine Dataset)')\n",
    "plt.show()"
   ]
  },
  {
   "cell_type": "code",
   "execution_count": null,
   "id": "bafa712b",
   "metadata": {},
   "outputs": [],
   "source": []
  }
 ],
 "metadata": {
  "kernelspec": {
   "display_name": "Python 3",
   "language": "python",
   "name": "python3"
  },
  "language_info": {
   "codemirror_mode": {
    "name": "ipython",
    "version": 3
   },
   "file_extension": ".py",
   "mimetype": "text/x-python",
   "name": "python",
   "nbconvert_exporter": "python",
   "pygments_lexer": "ipython3",
   "version": "3.8.8"
  }
 },
 "nbformat": 4,
 "nbformat_minor": 5
}
